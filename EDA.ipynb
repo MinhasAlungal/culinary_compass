{
 "cells": [
  {
   "cell_type": "markdown",
   "metadata": {},
   "source": []
  },
  {
   "cell_type": "code",
   "execution_count": 1,
   "metadata": {},
   "outputs": [],
   "source": [
    "import pandas as pd\n",
    "import seaborn as sn\n",
    "import matplotlib.pyplot as plt\n",
    "from sklearn.preprocessing import MinMaxScaler\n",
    "from sklearn.neighbors import NearestNeighbors\n",
    "import numpy as np"
   ]
  },
  {
   "cell_type": "code",
   "execution_count": 2,
   "metadata": {},
   "outputs": [],
   "source": [
    "df = pd.read_excel(\"data/food_data.xlsx\")"
   ]
  },
  {
   "cell_type": "code",
   "execution_count": 3,
   "metadata": {},
   "outputs": [
    {
     "data": {
      "text/html": [
       "<div>\n",
       "<style scoped>\n",
       "    .dataframe tbody tr th:only-of-type {\n",
       "        vertical-align: middle;\n",
       "    }\n",
       "\n",
       "    .dataframe tbody tr th {\n",
       "        vertical-align: top;\n",
       "    }\n",
       "\n",
       "    .dataframe thead th {\n",
       "        text-align: right;\n",
       "    }\n",
       "</style>\n",
       "<table border=\"1\" class=\"dataframe\">\n",
       "  <thead>\n",
       "    <tr style=\"text-align: right;\">\n",
       "      <th></th>\n",
       "      <th>description</th>\n",
       "      <th>sub_category</th>\n",
       "      <th>main_category</th>\n",
       "      <th>category</th>\n",
       "      <th>energy (kJ)</th>\n",
       "      <th>carbohydrate_G</th>\n",
       "      <th>vitamin_A_UG</th>\n",
       "      <th>calcium_MG</th>\n",
       "      <th>potassium_MG</th>\n",
       "      <th>zinc_MG</th>\n",
       "      <th>...</th>\n",
       "      <th>folate_total_UG</th>\n",
       "      <th>vitamin B_12_UG</th>\n",
       "      <th>thiamin_MG</th>\n",
       "      <th>riboflavin_MG</th>\n",
       "      <th>cholesterol_MG</th>\n",
       "      <th>Niacin_MG</th>\n",
       "      <th>vitamin_B_6_MG</th>\n",
       "      <th>selenium_UG</th>\n",
       "      <th>vitamin D _UG</th>\n",
       "      <th>choline_total_MG</th>\n",
       "    </tr>\n",
       "  </thead>\n",
       "  <tbody>\n",
       "    <tr>\n",
       "      <th>0</th>\n",
       "      <td>Abiyuch, raw</td>\n",
       "      <td>Fruit</td>\n",
       "      <td>Veg</td>\n",
       "      <td>Fruits and Fruit Juices</td>\n",
       "      <td>290.0</td>\n",
       "      <td>17.60</td>\n",
       "      <td>5.0</td>\n",
       "      <td>8.0</td>\n",
       "      <td>304.0</td>\n",
       "      <td>0.31</td>\n",
       "      <td>...</td>\n",
       "      <td>NaN</td>\n",
       "      <td>NaN</td>\n",
       "      <td>NaN</td>\n",
       "      <td>NaN</td>\n",
       "      <td>NaN</td>\n",
       "      <td>NaN</td>\n",
       "      <td>NaN</td>\n",
       "      <td>NaN</td>\n",
       "      <td>NaN</td>\n",
       "      <td>NaN</td>\n",
       "    </tr>\n",
       "    <tr>\n",
       "      <th>1</th>\n",
       "      <td>Acerola juice, raw</td>\n",
       "      <td>Juice</td>\n",
       "      <td>Veg</td>\n",
       "      <td>Fruits and Fruit Juices</td>\n",
       "      <td>96.0</td>\n",
       "      <td>4.80</td>\n",
       "      <td>25.0</td>\n",
       "      <td>10.0</td>\n",
       "      <td>97.0</td>\n",
       "      <td>0.10</td>\n",
       "      <td>...</td>\n",
       "      <td>14.0</td>\n",
       "      <td>0.0</td>\n",
       "      <td>0.020</td>\n",
       "      <td>0.060</td>\n",
       "      <td>0.0</td>\n",
       "      <td>0.400</td>\n",
       "      <td>0.004</td>\n",
       "      <td>0.1</td>\n",
       "      <td>NaN</td>\n",
       "      <td>NaN</td>\n",
       "    </tr>\n",
       "    <tr>\n",
       "      <th>2</th>\n",
       "      <td>Acerola, (west indian cherry), raw</td>\n",
       "      <td>Fruit</td>\n",
       "      <td>Veg</td>\n",
       "      <td>Fruits and Fruit Juices</td>\n",
       "      <td>134.0</td>\n",
       "      <td>7.69</td>\n",
       "      <td>38.0</td>\n",
       "      <td>12.0</td>\n",
       "      <td>146.0</td>\n",
       "      <td>0.10</td>\n",
       "      <td>...</td>\n",
       "      <td>14.0</td>\n",
       "      <td>0.0</td>\n",
       "      <td>0.020</td>\n",
       "      <td>0.060</td>\n",
       "      <td>0.0</td>\n",
       "      <td>0.400</td>\n",
       "      <td>0.009</td>\n",
       "      <td>0.6</td>\n",
       "      <td>NaN</td>\n",
       "      <td>NaN</td>\n",
       "    </tr>\n",
       "    <tr>\n",
       "      <th>3</th>\n",
       "      <td>Alfalfa seeds, sprouted, raw</td>\n",
       "      <td>Vegetable</td>\n",
       "      <td>Veg</td>\n",
       "      <td>Vegetables and Vegetable Products</td>\n",
       "      <td>96.0</td>\n",
       "      <td>2.10</td>\n",
       "      <td>8.0</td>\n",
       "      <td>32.0</td>\n",
       "      <td>79.0</td>\n",
       "      <td>0.92</td>\n",
       "      <td>...</td>\n",
       "      <td>36.0</td>\n",
       "      <td>0.0</td>\n",
       "      <td>0.076</td>\n",
       "      <td>0.126</td>\n",
       "      <td>0.0</td>\n",
       "      <td>0.481</td>\n",
       "      <td>0.034</td>\n",
       "      <td>0.6</td>\n",
       "      <td>0.0</td>\n",
       "      <td>14.4</td>\n",
       "    </tr>\n",
       "    <tr>\n",
       "      <th>4</th>\n",
       "      <td>Amaranth leaves, raw</td>\n",
       "      <td>Vegetable</td>\n",
       "      <td>Veg</td>\n",
       "      <td>Vegetables and Vegetable Products</td>\n",
       "      <td>97.0</td>\n",
       "      <td>4.02</td>\n",
       "      <td>146.0</td>\n",
       "      <td>215.0</td>\n",
       "      <td>611.0</td>\n",
       "      <td>0.90</td>\n",
       "      <td>...</td>\n",
       "      <td>85.0</td>\n",
       "      <td>0.0</td>\n",
       "      <td>0.027</td>\n",
       "      <td>0.158</td>\n",
       "      <td>0.0</td>\n",
       "      <td>0.658</td>\n",
       "      <td>0.192</td>\n",
       "      <td>0.9</td>\n",
       "      <td>0.0</td>\n",
       "      <td>NaN</td>\n",
       "    </tr>\n",
       "  </tbody>\n",
       "</table>\n",
       "<p>5 rows × 36 columns</p>\n",
       "</div>"
      ],
      "text/plain": [
       "                          description sub_category main_category   \n",
       "0                        Abiyuch, raw        Fruit           Veg  \\\n",
       "1                  Acerola juice, raw        Juice           Veg   \n",
       "2  Acerola, (west indian cherry), raw        Fruit           Veg   \n",
       "3        Alfalfa seeds, sprouted, raw    Vegetable           Veg   \n",
       "4                Amaranth leaves, raw    Vegetable           Veg   \n",
       "\n",
       "                            category  energy (kJ)  carbohydrate_G   \n",
       "0            Fruits and Fruit Juices        290.0           17.60  \\\n",
       "1            Fruits and Fruit Juices         96.0            4.80   \n",
       "2            Fruits and Fruit Juices        134.0            7.69   \n",
       "3  Vegetables and Vegetable Products         96.0            2.10   \n",
       "4  Vegetables and Vegetable Products         97.0            4.02   \n",
       "\n",
       "   vitamin_A_UG  calcium_MG  potassium_MG  zinc_MG  ...  folate_total_UG   \n",
       "0           5.0         8.0         304.0     0.31  ...              NaN  \\\n",
       "1          25.0        10.0          97.0     0.10  ...             14.0   \n",
       "2          38.0        12.0         146.0     0.10  ...             14.0   \n",
       "3           8.0        32.0          79.0     0.92  ...             36.0   \n",
       "4         146.0       215.0         611.0     0.90  ...             85.0   \n",
       "\n",
       "   vitamin B_12_UG  thiamin_MG  riboflavin_MG  cholesterol_MG  Niacin_MG   \n",
       "0              NaN         NaN            NaN             NaN        NaN  \\\n",
       "1              0.0       0.020          0.060             0.0      0.400   \n",
       "2              0.0       0.020          0.060             0.0      0.400   \n",
       "3              0.0       0.076          0.126             0.0      0.481   \n",
       "4              0.0       0.027          0.158             0.0      0.658   \n",
       "\n",
       "   vitamin_B_6_MG  selenium_UG  vitamin D _UG  choline_total_MG  \n",
       "0             NaN          NaN            NaN               NaN  \n",
       "1           0.004          0.1            NaN               NaN  \n",
       "2           0.009          0.6            NaN               NaN  \n",
       "3           0.034          0.6            0.0              14.4  \n",
       "4           0.192          0.9            0.0               NaN  \n",
       "\n",
       "[5 rows x 36 columns]"
      ]
     },
     "execution_count": 3,
     "metadata": {},
     "output_type": "execute_result"
    }
   ],
   "source": [
    "df.head()"
   ]
  },
  {
   "cell_type": "code",
   "execution_count": 4,
   "metadata": {},
   "outputs": [],
   "source": [
    "df.rename(columns={'vitamin_K_ UG': 'vitamin_K_UG', 'vitamin D _UG' : 'vitamin_D_UG', 'vitamin B_12_UG' : 'vitamin_B_12_UG'}, inplace=True)"
   ]
  },
  {
   "cell_type": "code",
   "execution_count": 5,
   "metadata": {},
   "outputs": [
    {
     "data": {
      "text/plain": [
       "(1166, 36)"
      ]
     },
     "execution_count": 5,
     "metadata": {},
     "output_type": "execute_result"
    }
   ],
   "source": [
    "df.shape"
   ]
  },
  {
   "cell_type": "code",
   "execution_count": 6,
   "metadata": {},
   "outputs": [
    {
     "name": "stdout",
     "output_type": "stream",
     "text": [
      "<class 'pandas.core.frame.DataFrame'>\n",
      "RangeIndex: 1166 entries, 0 to 1165\n",
      "Data columns (total 36 columns):\n",
      " #   Column                               Non-Null Count  Dtype  \n",
      "---  ------                               --------------  -----  \n",
      " 0   description                          1166 non-null   object \n",
      " 1   sub_category                         1166 non-null   object \n",
      " 2   main_category                        1166 non-null   object \n",
      " 3   category                             1166 non-null   object \n",
      " 4   energy (kJ)                          1048 non-null   float64\n",
      " 5   carbohydrate_G                       1162 non-null   float64\n",
      " 6   vitamin_A_UG                         994 non-null    float64\n",
      " 7   calcium_MG                           1164 non-null   float64\n",
      " 8   potassium_MG                         1150 non-null   float64\n",
      " 9   zinc_MG                              1132 non-null   float64\n",
      " 10  water_G                              1164 non-null   float64\n",
      " 11  total_lipid_fat_G                    1166 non-null   float64\n",
      " 12  protein_G                            1164 non-null   float64\n",
      " 13  fatty_acids_total_saturated_G        1004 non-null   float64\n",
      " 14  vitamin_C_MG                         1041 non-null   float64\n",
      " 15  fiber_total_dietary_G                1026 non-null   float64\n",
      " 16  iron_MG                              1162 non-null   float64\n",
      " 17  magnesium_MG                         1140 non-null   float64\n",
      " 18  phosphorus_MG                        1151 non-null   float64\n",
      " 19  sodium_MG                            1160 non-null   float64\n",
      " 20  copper_MG                            1129 non-null   float64\n",
      " 21  total_sugars_G                       703 non-null    float64\n",
      " 22  fatty_acids_total_monounsaturated_G  990 non-null    float64\n",
      " 23  vitamin_K_UG                         676 non-null    float64\n",
      " 24  vitamin_E_MG                         710 non-null    float64\n",
      " 25  fatty_acids_total_polyunsaturated_G  975 non-null    float64\n",
      " 26  folate_total_UG                      981 non-null    float64\n",
      " 27  vitamin_B_12_UG                      986 non-null    float64\n",
      " 28  thiamin_MG                           1063 non-null   float64\n",
      " 29  riboflavin_MG                        1042 non-null   float64\n",
      " 30  cholesterol_MG                       1036 non-null   float64\n",
      " 31  Niacin_MG                            1065 non-null   float64\n",
      " 32  vitamin_B_6_MG                       1053 non-null   float64\n",
      " 33  selenium_UG                          996 non-null    float64\n",
      " 34  vitamin_D_UG                         724 non-null    float64\n",
      " 35  choline_total_MG                     586 non-null    float64\n",
      "dtypes: float64(32), object(4)\n",
      "memory usage: 328.1+ KB\n"
     ]
    }
   ],
   "source": [
    "df.info()"
   ]
  },
  {
   "cell_type": "code",
   "execution_count": 7,
   "metadata": {},
   "outputs": [
    {
     "data": {
      "text/plain": [
       "description                              0\n",
       "sub_category                             0\n",
       "main_category                            0\n",
       "category                                 0\n",
       "energy (kJ)                            118\n",
       "carbohydrate_G                           4\n",
       "vitamin_A_UG                           172\n",
       "calcium_MG                               2\n",
       "potassium_MG                            16\n",
       "zinc_MG                                 34\n",
       "water_G                                  2\n",
       "total_lipid_fat_G                        0\n",
       "protein_G                                2\n",
       "fatty_acids_total_saturated_G          162\n",
       "vitamin_C_MG                           125\n",
       "fiber_total_dietary_G                  140\n",
       "iron_MG                                  4\n",
       "magnesium_MG                            26\n",
       "phosphorus_MG                           15\n",
       "sodium_MG                                6\n",
       "copper_MG                               37\n",
       "total_sugars_G                         463\n",
       "fatty_acids_total_monounsaturated_G    176\n",
       "vitamin_K_UG                           490\n",
       "vitamin_E_MG                           456\n",
       "fatty_acids_total_polyunsaturated_G    191\n",
       "folate_total_UG                        185\n",
       "vitamin_B_12_UG                        180\n",
       "thiamin_MG                             103\n",
       "riboflavin_MG                          124\n",
       "cholesterol_MG                         130\n",
       "Niacin_MG                              101\n",
       "vitamin_B_6_MG                         113\n",
       "selenium_UG                            170\n",
       "vitamin_D_UG                           442\n",
       "choline_total_MG                       580\n",
       "dtype: int64"
      ]
     },
     "execution_count": 7,
     "metadata": {},
     "output_type": "execute_result"
    }
   ],
   "source": [
    "df.isnull().sum()"
   ]
  },
  {
   "cell_type": "code",
   "execution_count": 8,
   "metadata": {},
   "outputs": [
    {
     "data": {
      "text/plain": [
       "Index(['description', 'sub_category', 'main_category', 'category',\n",
       "       'energy (kJ)', 'carbohydrate_G', 'vitamin_A_UG', 'calcium_MG',\n",
       "       'potassium_MG', 'zinc_MG', 'water_G', 'total_lipid_fat_G', 'protein_G',\n",
       "       'fatty_acids_total_saturated_G', 'vitamin_C_MG',\n",
       "       'fiber_total_dietary_G', 'iron_MG', 'magnesium_MG', 'phosphorus_MG',\n",
       "       'sodium_MG', 'copper_MG', 'total_sugars_G',\n",
       "       'fatty_acids_total_monounsaturated_G', 'vitamin_K_UG', 'vitamin_E_MG',\n",
       "       'fatty_acids_total_polyunsaturated_G', 'folate_total_UG',\n",
       "       'vitamin_B_12_UG', 'thiamin_MG', 'riboflavin_MG', 'cholesterol_MG',\n",
       "       'Niacin_MG', 'vitamin_B_6_MG', 'selenium_UG', 'vitamin_D_UG',\n",
       "       'choline_total_MG'],\n",
       "      dtype='object')"
      ]
     },
     "execution_count": 8,
     "metadata": {},
     "output_type": "execute_result"
    }
   ],
   "source": [
    "df.columns"
   ]
  },
  {
   "cell_type": "markdown",
   "metadata": {},
   "source": [
    "### Preprocessing"
   ]
  },
  {
   "cell_type": "code",
   "execution_count": 9,
   "metadata": {},
   "outputs": [],
   "source": [
    "df.fillna(0, inplace = True)"
   ]
  },
  {
   "cell_type": "code",
   "execution_count": 10,
   "metadata": {},
   "outputs": [],
   "source": [
    "\n",
    "in_mg = ['calcium_MG', 'potassium_MG', 'zinc_MG', 'vitamin_C_MG', 'iron_MG', 'magnesium_MG', 'phosphorus_MG',\n",
    "          'sodium_MG', 'copper_MG', 'vitamin_E_MG', 'thiamin_MG', 'riboflavin_MG', 'cholesterol_MG', 'Niacin_MG', \n",
    "          'vitamin_B_6_MG', 'choline_total_MG']\n",
    "\n",
    "in_grams = ['carbohydrate_G', 'water_G', 'total_lipid_fat_G', 'protein_G', 'fatty_acids_total_saturated_G', \n",
    "            'fiber_total_dietary_G','total_sugars_G', 'fatty_acids_total_monounsaturated_G', \n",
    "            'fatty_acids_total_polyunsaturated_G' ]\n",
    "\n",
    "in_ug = ['vitamin_A_UG', 'vitamin_K_UG', 'folate_total_UG', 'vitamin_B_12_UG', 'selenium_UG', 'vitamin_D_UG' ]\n",
    "\n",
    "others = ['description', 'sub_category', 'main_category', 'category', 'energy (kJ)']\n",
    "\n",
    "# Convert grams to milligrams (g → mg)\n",
    "df[in_grams] = df[in_grams] * 1000\n",
    "\n",
    "# Convert micrograms to milligrams (µg → mg)\n",
    "df[in_ug] = df[in_ug] / 1000\n",
    "\n",
    "\n"
   ]
  },
  {
   "cell_type": "code",
   "execution_count": 11,
   "metadata": {},
   "outputs": [],
   "source": [
    "\n",
    "df.columns = df.columns.str.replace(r'_(UG|MG|G)$', '', regex=True)"
   ]
  },
  {
   "cell_type": "code",
   "execution_count": 12,
   "metadata": {},
   "outputs": [
    {
     "data": {
      "text/plain": [
       "Index(['description', 'sub_category', 'main_category', 'category',\n",
       "       'energy (kJ)', 'carbohydrate', 'vitamin_A', 'calcium', 'potassium',\n",
       "       'zinc', 'water', 'total_lipid_fat', 'protein',\n",
       "       'fatty_acids_total_saturated', 'vitamin_C', 'fiber_total_dietary',\n",
       "       'iron', 'magnesium', 'phosphorus', 'sodium', 'copper', 'total_sugars',\n",
       "       'fatty_acids_total_monounsaturated', 'vitamin_K', 'vitamin_E',\n",
       "       'fatty_acids_total_polyunsaturated', 'folate_total', 'vitamin_B_12',\n",
       "       'thiamin', 'riboflavin', 'cholesterol', 'Niacin', 'vitamin_B_6',\n",
       "       'selenium', 'vitamin_D', 'choline_total'],\n",
       "      dtype='object')"
      ]
     },
     "execution_count": 12,
     "metadata": {},
     "output_type": "execute_result"
    }
   ],
   "source": [
    "df.columns"
   ]
  },
  {
   "cell_type": "code",
   "execution_count": 13,
   "metadata": {},
   "outputs": [
    {
     "data": {
      "text/plain": [
       "41.9"
      ]
     },
     "execution_count": 13,
     "metadata": {},
     "output_type": "execute_result"
    }
   ],
   "source": [
    "df['iron'].max()"
   ]
  },
  {
   "cell_type": "code",
   "execution_count": 14,
   "metadata": {},
   "outputs": [
    {
     "name": "stdout",
     "output_type": "stream",
     "text": [
      "✅ Data preprocessing complete! File saved as 'processed_food_data.csv'.\n"
     ]
    }
   ],
   "source": [
    "# Select relevant columns (nutrients for modeling)\n",
    "nutrients = ['calcium', 'potassium', 'zinc', 'vitamin_C', 'iron', 'magnesium', 'phosphorus','sodium', 'copper',\n",
    "              'vitamin_E', 'thiamin', 'riboflavin', 'cholesterol', 'Niacin', 'vitamin_B_6', 'choline_total',\n",
    "              'vitamin_A', 'vitamin_K', 'folate_total', 'vitamin_B_12', 'selenium', 'vitamin_D' ]\n",
    "\n",
    "# Normalize the nutrient values for ML\n",
    "scaler = MinMaxScaler()\n",
    "df[nutrients] = scaler.fit_transform(df[nutrients])\n",
    "\n",
    "# Save the processed data\n",
    "df.to_csv(\"data/processed_food_data.csv\", index=False)\n",
    "print(\"✅ Data preprocessing complete! File saved as 'processed_food_data.csv'.\")\n"
   ]
  },
  {
   "cell_type": "code",
   "execution_count": 15,
   "metadata": {},
   "outputs": [
    {
     "name": "stdout",
     "output_type": "stream",
     "text": [
      "✅ Model trained. Testing recommendations...\n",
      "\n",
      "🥗 Vitamin C Deficiency:\n",
      "[{'description': 'Acerola, (west indian cherry), raw', 'vitamin_C': 1.0}, {'description': 'Acerola juice, raw', 'vitamin_C': 0.9523809523809524}, {'description': 'Beverages, tea, green, instant, decaffeinated, lemon, unsweetened, fortified with vitamin C', 'vitamin_C': 0.7976190476190477}, {'description': 'Guavas, common, raw', 'vitamin_C': 0.1357142857142857}, {'description': 'Peppers, hot chili, green, raw', 'vitamin_C': 0.144047619047619}, {'description': 'Peppers, sweet, yellow, raw', 'vitamin_C': 0.1095238095238095}, {'description': 'Mango, Ataulfo, peeled, raw', 'vitamin_C': 0.1}, {'description': 'Currants, european black, raw', 'vitamin_C': 0.1077380952380952}, {'description': 'Kiwifruit, ZESPRI SunGold, raw', 'vitamin_C': 0.0958333333333333}, {'description': 'Peppers, bell, orange, raw', 'vitamin_C': 0.094047619047619}]\n",
      "\n",
      "🥩 Iron Deficiency:\n",
      "[{'description': 'Lamb, variety meats and by-products, spleen, raw', 'iron': 1.0}, {'description': 'Pork, fresh, variety meats and by-products, spleen, raw', 'iron': 0.5322195704057279}, {'description': 'Pork, fresh, variety meats and by-products, lungs, raw', 'iron': 0.4510739856801908}, {'description': 'Mushrooms, morel, raw', 'iron': 0.2911694510739857}, {'description': 'Lemon grass (citronella), raw', 'iron': 0.1949880668257756}, {'description': 'Game meat, beaver, raw', 'iron': 0.1646778042959427}, {'description': 'Game meat, bear, raw', 'iron': 0.1587112171837708}, {'description': 'Lamb, variety meats and by-products, lungs, raw', 'iron': 0.152744630071599}, {'description': 'Seaweed, irishmoss, raw', 'iron': 0.2124105011933174}, {'description': 'Tofu, raw, regular, prepared with calcium sulfate', 'iron': 0.1279236276849642}]\n"
     ]
    },
    {
     "name": "stderr",
     "output_type": "stream",
     "text": [
      "/Users/aartijangid/aarti-data/culinary_compass/.venv/lib/python3.11/site-packages/sklearn/base.py:439: UserWarning: X does not have valid feature names, but NearestNeighbors was fitted with feature names\n",
      "  warnings.warn(\n",
      "/Users/aartijangid/aarti-data/culinary_compass/.venv/lib/python3.11/site-packages/sklearn/base.py:439: UserWarning: X does not have valid feature names, but NearestNeighbors was fitted with feature names\n",
      "  warnings.warn(\n"
     ]
    }
   ],
   "source": [
    "# Load processed dataset\n",
    "df = pd.read_csv(\"data/processed_food_data.csv\")\n",
    "\n",
    "# Define features (nutrient values)\n",
    "nutrients = ['calcium', 'potassium', 'zinc', 'vitamin_C', 'iron', 'magnesium', 'phosphorus','sodium', 'copper',\n",
    "              'vitamin_E', 'thiamin', 'riboflavin', 'cholesterol', 'Niacin', 'vitamin_B_6', 'choline_total',\n",
    "              'vitamin_A', 'vitamin_K', 'folate_total', 'vitamin_B_12', 'selenium', 'vitamin_D' ]\n",
    "X = df[nutrients]\n",
    "\n",
    "# Train a KNN model\n",
    "knn = NearestNeighbors(n_neighbors=10, metric='euclidean')\n",
    "knn.fit(X)\n",
    "\n",
    "def recommend_food(deficiency):\n",
    "    \"\"\"Recommend food items based on a user's nutrient deficiency.\"\"\"\n",
    "    if deficiency not in nutrients:\n",
    "        return \"Invalid deficiency. Choose from: \" + \", \".join(nutrients)\n",
    "\n",
    "    # Create a query vector: 1 for the deficient nutrient, 0 for others\n",
    "    deficiency_idx = nutrients.index(deficiency)\n",
    "    sample = np.zeros(len(nutrients))\n",
    "    sample[deficiency_idx] = 1  # Targeting the deficient nutrient\n",
    "\n",
    "    # Find similar foods\n",
    "    distances, indices = knn.kneighbors([sample])\n",
    "    recommendations = df.iloc[indices[0]][['description', deficiency]]\n",
    "\n",
    "    return recommendations.to_dict(orient=\"records\")\n",
    "\n",
    "# Test the model\n",
    "print(\"✅ Model trained. Testing recommendations...\\n\")\n",
    "\n",
    "print(\"🥗 Vitamin C Deficiency:\")\n",
    "print(recommend_food(\"vitamin_C\"))\n",
    "\n",
    "print(\"\\n🥩 Iron Deficiency:\")\n",
    "print(recommend_food(\"iron\"))\n"
   ]
  },
  {
   "cell_type": "code",
   "execution_count": 26,
   "metadata": {},
   "outputs": [
    {
     "name": "stdout",
     "output_type": "stream",
     "text": [
      "✅ Model trained. Testing recommendations...\n",
      "\n",
      "🥗 Vitamin C and Iron Deficiency:\n",
      "{'description': 'Acerola juice, raw', 'vitamin_C': 0.9523809523809524, 'iron': 0.0119331742243436}\n",
      "{'description': 'Acerola, (west indian cherry), raw', 'vitamin_C': 1.0, 'iron': 0.0047732696897374}\n",
      "{'description': 'Beverages, tea, green, instant, decaffeinated, lemon, unsweetened, fortified with vitamin C', 'vitamin_C': 0.7976190476190477, 'iron': 0.0050119331742243}\n",
      "{'description': 'Lamb, variety meats and by-products, spleen, raw', 'vitamin_C': 0.0136904761904761, 'iron': 1.0}\n",
      "{'description': 'Pork, fresh, variety meats and by-products, spleen, raw', 'vitamin_C': 0.0169642857142857, 'iron': 0.5322195704057279}\n",
      "{'description': 'Pork, fresh, variety meats and by-products, lungs, raw', 'vitamin_C': 0.0073214285714285, 'iron': 0.4510739856801908}\n",
      "{'description': 'Mushrooms, morel, raw', 'vitamin_C': 0.0, 'iron': 0.2911694510739857}\n",
      "{'description': 'Lemon grass (citronella), raw', 'vitamin_C': 0.001547619047619, 'iron': 0.1949880668257756}\n",
      "{'description': 'Peppers, hot chili, green, raw', 'vitamin_C': 0.144047619047619, 'iron': 0.0286396181384248}\n",
      "{'description': 'Currants, european black, raw', 'vitamin_C': 0.1077380952380952, 'iron': 0.0367541766109785}\n",
      "{'description': 'Guavas, common, raw', 'vitamin_C': 0.1357142857142857, 'iron': 0.0062052505966587}\n",
      "{'description': 'Game meat, beaver, raw', 'vitamin_C': 0.0011904761904761, 'iron': 0.1646778042959427}\n",
      "{'description': 'Lamb, variety meats and by-products, lungs, raw', 'vitamin_C': 0.0184523809523809, 'iron': 0.152744630071599}\n",
      "{'description': 'Peppers, sweet, yellow, raw', 'vitamin_C': 0.1095238095238095, 'iron': 0.0109785202863961}\n",
      "{'description': 'Game meat, bear, raw', 'vitamin_C': 0.0, 'iron': 0.1587112171837708}\n",
      "{'description': 'Pokeberry shoots, (poke), raw', 'vitamin_C': 0.0809523809523809, 'iron': 0.0405727923627684}\n",
      "{'description': 'Persimmons, native, raw', 'vitamin_C': 0.0392857142857142, 'iron': 0.0596658711217183}\n",
      "{'description': 'Seaweed, irishmoss, raw', 'vitamin_C': 0.0017857142857142, 'iron': 0.2124105011933174}\n",
      "{'description': 'Mango, Ataulfo, peeled, raw', 'vitamin_C': 0.1, 'iron': 0.0}\n",
      "{'description': 'Veal, variety meats and by-products, spleen, raw', 'vitamin_C': 0.0244047619047619, 'iron': 0.2224343675417661}\n",
      "{'description': 'Tofu, raw, regular, prepared with calcium sulfate', 'vitamin_C': 5.952380952380953e-05, 'iron': 0.1279236276849642}\n",
      "{'description': 'Veal, variety meats and by-products, lungs, raw', 'vitamin_C': 0.0232142857142857, 'iron': 0.1248210023866348}\n",
      "{'description': 'Kiwifruit, ZESPRI SunGold, raw', 'vitamin_C': 0.0958333333333333, 'iron': 0.0050119331742243}\n",
      "{'description': 'Lemon peel, raw', 'vitamin_C': 0.0767857142857142, 'iron': 0.0190930787589498}\n",
      "{'description': 'Borage, raw', 'vitamin_C': 0.0208333333333333, 'iron': 0.0787589498806682}\n",
      "{'description': 'Orange peel, raw', 'vitamin_C': 0.0809523809523809, 'iron': 0.0190930787589498}\n",
      "{'description': 'Peppers, bell, orange, raw', 'vitamin_C': 0.094047619047619, 'iron': 0.0087112171837708}\n",
      "{'description': 'Drumstick pods, raw', 'vitamin_C': 0.0839285714285714, 'iron': 0.0085918854415274}\n",
      "{'description': 'Game meat, squirrel, raw', 'vitamin_C': 0.0, 'iron': 0.1121718377088305}\n",
      "{'description': 'Veal, Australian, shank, hind, bone-in, separable lean only, raw', 'vitamin_C': 0.0, 'iron': 0.073508353221957}\n",
      "{'description': 'Peppers, bell, yellow, raw', 'vitamin_C': 0.0827380952380952, 'iron': 0.0085918854415274}\n",
      "{'description': 'Peppers, bell, red, raw', 'vitamin_C': 0.0845238095238095, 'iron': 0.0084248210023866}\n",
      "{'description': 'Veal, Australian, shank, hind, bone-in, separable lean and fat, raw', 'vitamin_C': 0.0, 'iron': 0.0704057279236276}\n",
      "{'description': 'Mustard spinach, (tendergreen), raw', 'vitamin_C': 0.0773809523809523, 'iron': 0.035799522673031}\n",
      "{'description': 'Abiyuch, raw', 'vitamin_C': 0.0322023809523809, 'iron': 0.0384248210023866}\n",
      "{'description': 'Peas, edible-podded, raw', 'vitamin_C': 0.0357142857142857, 'iron': 0.0496420047732696}\n",
      "{'description': 'Taro, tahitian, raw', 'vitamin_C': 0.0571428571428571, 'iron': 0.0310262529832935}\n",
      "{'description': 'Potatoes, raw, skin', 'vitamin_C': 0.0067857142857142, 'iron': 0.077326968973747}\n",
      "{'description': 'Lamb, variety meats and by-products, mechanically separated, raw', 'vitamin_C': 0.0, 'iron': 0.1408114558472553}\n",
      "{'description': 'Rowal, raw', 'vitamin_C': 0.0153571428571428, 'iron': 0.0525059665871121}\n",
      "\n",
      "🥩 Calcium and Magnesium Deficiency:\n",
      "{'description': 'Tofu, raw, firm, prepared with calcium sulfate', 'calcium': 0.4553333333333333, 'magnesium': 0.116}\n",
      "{'description': 'Lambsquarters, raw (Northern Plains Indians)', 'calcium': 0.244, 'magnesium': 0.326}\n",
      "{'description': 'Nuts, almonds, whole, raw', 'calcium': 0.1693333333333333, 'magnesium': 0.516}\n",
      "{'description': 'Chia seeds, dry, raw', 'calcium': 0.3966666666666666, 'magnesium': 0.652}\n",
      "{'description': 'Fireweed, leaves, raw', 'calcium': 0.286, 'magnesium': 0.312}\n",
      "{'description': 'Cheese, Mexican, blend, reduced fat', 'calcium': 0.7666666666666666, 'magnesium': 0.07}\n",
      "{'description': 'Cheese, swiss, low fat', 'calcium': 0.6406666666666666, 'magnesium': 0.072}\n",
      "{'description': 'Cheese, swiss, low sodium', 'calcium': 0.6406666666666666, 'magnesium': 0.072}\n",
      "{'description': 'Cheese, gruyere', 'calcium': 0.6733333333333333, 'magnesium': 0.072}\n",
      "{'description': 'Cheese, swiss', 'calcium': 0.5933333333333333, 'magnesium': 0.0668}\n",
      "{'description': 'Cheese, swiss', 'calcium': 0.5933333333333333, 'magnesium': 0.066}\n",
      "{'description': 'Cheese, American, nonfat or fat free', 'calcium': 0.526, 'magnesium': 0.23}\n",
      "{'description': 'Cheese, mozzarella, part skim milk', 'calcium': 0.5213333333333333, 'magnesium': 0.046}\n",
      "{'description': 'Cheese, monterey', 'calcium': 0.4973333333333333, 'magnesium': 0.054}\n",
      "{'description': 'Cheese, provolone, sliced', 'calcium': 0.4993333333333333, 'magnesium': 0.059}\n",
      "{'description': 'Cheese, cheddar, nonfat or fat free', 'calcium': 0.5953333333333333, 'magnesium': 0.032}\n",
      "{'description': 'Cheese, port de salut', 'calcium': 0.4333333333333333, 'magnesium': 0.048}\n",
      "{'description': 'Epazote, raw', 'calcium': 0.1833333333333333, 'magnesium': 0.242}\n",
      "{'description': 'Cheese, Swiss, nonfat or fat free', 'calcium': 0.6406666666666666, 'magnesium': 0.072}\n",
      "{'description': 'Cheese, monterey jack, solid', 'calcium': 0.4766666666666666, 'magnesium': 0.0592}\n",
      "{'description': 'Cheese, parmesan, hard', 'calcium': 0.7866666666666666, 'magnesium': 0.088}\n",
      "{'description': 'Cheese, provolone, reduced fat', 'calcium': 0.504, 'magnesium': 0.056}\n",
      "{'description': 'Cheese, low-sodium, cheddar or colby', 'calcium': 0.4686666666666667, 'magnesium': 0.054}\n",
      "{'description': 'Cheese, muenster', 'calcium': 0.478, 'magnesium': 0.054}\n",
      "{'description': 'Cheese, provolone', 'calcium': 0.504, 'magnesium': 0.056}\n",
      "{'description': 'Mungo beans, mature seeds, raw', 'calcium': 0.092, 'magnesium': 0.534}\n",
      "{'description': 'Cheese, mozzarella, low sodium', 'calcium': 0.4873333333333333, 'magnesium': 0.052}\n",
      "{'description': 'Cheese, mozzarella, nonfat', 'calcium': 0.6406666666666666, 'magnesium': 0.066}\n",
      "{'description': 'Cheese, monterey, low fat', 'calcium': 0.47, 'magnesium': 0.054}\n",
      "{'description': 'Grape leaves, raw', 'calcium': 0.242, 'magnesium': 0.19}\n",
      "{'description': 'Cheese, queso fresco, solid', 'calcium': 0.4013333333333333, 'magnesium': 0.0552}\n",
      "{'description': 'Cheese, white, queso blanco', 'calcium': 0.4599999999999999, 'magnesium': 0.058}\n",
      "{'description': 'Cheese, parmesan, grated, refrigerated', 'calcium': 0.6333333333333333, 'magnesium': 0.0708}\n",
      "{'description': 'Cheese, mexican, queso asadero', 'calcium': 0.4406666666666666, 'magnesium': 0.052}\n",
      "{'description': 'Cheese, colby', 'calcium': 0.4566666666666666, 'magnesium': 0.052}\n",
      "{'description': 'Cheese, cheddar', 'calcium': 0.4733333333333333, 'magnesium': 0.054}\n",
      "{'description': 'Cheese, brick', 'calcium': 0.4493333333333333, 'magnesium': 0.048}\n",
      "{'description': 'Cheese, cheddar, sharp, sliced', 'calcium': 0.474, 'magnesium': 0.054}\n",
      "{'description': 'Cheese, cheddar', 'calcium': 0.4713333333333333, 'magnesium': 0.0536}\n",
      "{'description': 'Cheese, Mexican blend', 'calcium': 0.4393333333333333, 'magnesium': 0.05}\n"
     ]
    },
    {
     "name": "stderr",
     "output_type": "stream",
     "text": [
      "/Users/aartijangid/aarti-data/culinary_compass/.venv/lib/python3.11/site-packages/sklearn/base.py:439: UserWarning: X does not have valid feature names, but NearestNeighbors was fitted with feature names\n",
      "  warnings.warn(\n",
      "/Users/aartijangid/aarti-data/culinary_compass/.venv/lib/python3.11/site-packages/sklearn/base.py:439: UserWarning: X does not have valid feature names, but NearestNeighbors was fitted with feature names\n",
      "  warnings.warn(\n"
     ]
    }
   ],
   "source": [
    "import pandas as pd\n",
    "import numpy as np\n",
    "from sklearn.neighbors import NearestNeighbors\n",
    "\n",
    "# Load processed dataset\n",
    "df = pd.read_csv(\"data/processed_food_data.csv\")\n",
    "\n",
    "# Define features (nutrient values)\n",
    "nutrients = ['calcium', 'potassium', 'zinc', 'vitamin_C', 'iron', 'magnesium', 'phosphorus', 'sodium', 'copper',\n",
    "             'vitamin_E', 'thiamin', 'riboflavin', 'cholesterol', 'Niacin', 'vitamin_B_6', 'choline_total',\n",
    "             'vitamin_A', 'vitamin_K', 'folate_total', 'vitamin_B_12', 'selenium', 'vitamin_D']\n",
    "X = df[nutrients]\n",
    "\n",
    "# Train a KNN model\n",
    "knn = NearestNeighbors(n_neighbors=40, metric='euclidean')\n",
    "knn.fit(X)\n",
    "\n",
    "def recommend_food(deficiencies):\n",
    "    \"\"\"Recommend food items based on a user's nutrient deficiencies.\"\"\"\n",
    "    if not isinstance(deficiencies, list):\n",
    "        return \"Invalid input. Provide a list of deficiencies.\"\n",
    "    \n",
    "    invalid_nutrients = [d for d in deficiencies if d not in nutrients]\n",
    "    if invalid_nutrients:\n",
    "        return f\"Invalid deficiencies: {', '.join(invalid_nutrients)}. Choose from: {', '.join(nutrients)}\"\n",
    "\n",
    "    # Create a query vector: 1 for deficient nutrients, 0 for others\n",
    "    sample = np.zeros(len(nutrients))\n",
    "    for deficiency in deficiencies:\n",
    "        sample[nutrients.index(deficiency)] = 1  # Targeting deficient nutrients\n",
    "\n",
    "    # Find similar foods\n",
    "    distances, indices = knn.kneighbors([sample])\n",
    "    recommendations = df.iloc[indices[0]][['description'] + deficiencies]\n",
    "\n",
    "    return \"\\n\".join([str(item) for item in recommendations.to_dict(orient=\"records\")])\n",
    "\n",
    "# Test the model\n",
    "print(\"✅ Model trained. Testing recommendations...\\n\")\n",
    "\n",
    "print(\"🥗 Vitamin C and Iron Deficiency:\")\n",
    "print(recommend_food([\"vitamin_C\", \"iron\"]))\n",
    "\n",
    "print(\"\\n🥩 Calcium and Magnesium Deficiency:\")\n",
    "print(recommend_food([\"calcium\", \"magnesium\"]))\n"
   ]
  },
  {
   "cell_type": "code",
   "execution_count": 17,
   "metadata": {},
   "outputs": [
    {
     "data": {
      "text/plain": [
       "1.0"
      ]
     },
     "execution_count": 17,
     "metadata": {},
     "output_type": "execute_result"
    }
   ],
   "source": [
    "df['iron'].max()"
   ]
  },
  {
   "cell_type": "code",
   "execution_count": null,
   "metadata": {},
   "outputs": [],
   "source": []
  }
 ],
 "metadata": {
  "kernelspec": {
   "display_name": ".venv",
   "language": "python",
   "name": "python3"
  },
  "language_info": {
   "codemirror_mode": {
    "name": "ipython",
    "version": 3
   },
   "file_extension": ".py",
   "mimetype": "text/x-python",
   "name": "python",
   "nbconvert_exporter": "python",
   "pygments_lexer": "ipython3",
   "version": "3.11.3"
  }
 },
 "nbformat": 4,
 "nbformat_minor": 2
}
