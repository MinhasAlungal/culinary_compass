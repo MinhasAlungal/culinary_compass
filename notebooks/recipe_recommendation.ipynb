{
 "cells": [
  {
   "cell_type": "code",
   "execution_count": 1,
   "metadata": {},
   "outputs": [
    {
     "name": "stderr",
     "output_type": "stream",
     "text": [
      "/home/minhas/cgn-dp-24-1/culinary_compass/.venv/lib/python3.11/site-packages/tqdm/auto.py:21: TqdmWarning: IProgress not found. Please update jupyter and ipywidgets. See https://ipywidgets.readthedocs.io/en/stable/user_install.html\n",
      "  from .autonotebook import tqdm as notebook_tqdm\n"
     ]
    }
   ],
   "source": [
    "import numpy as np\n",
    "import pandas as pd\n",
    "from sentence_transformers import SentenceTransformer, util\n",
    "import torch\n",
    "import re"
   ]
  },
  {
   "cell_type": "code",
   "execution_count": 2,
   "metadata": {},
   "outputs": [],
   "source": [
    "# Load dataset\n",
    "df = pd.read_csv(\"/home/minhas/cgn-dp-24-1/culinary_compass/data/recipes.csv\")"
   ]
  },
  {
   "cell_type": "code",
   "execution_count": 5,
   "metadata": {},
   "outputs": [],
   "source": [
    "# non_veg_ingredients = [\"chicken\", \"beef\", \"pork\", \"fish\", \"shrimp\", \"lamb\", \"eggs\",\"egg\"]\n",
    "# df[\"DietaryCategory\"] = df[\"RecipeIngredientParts\"].apply(\n",
    "#     lambda ingredients: \"Non-Vegetarian\" if any(item in str(ingredients).lower() for item in non_veg_ingredients) else \"Vegetarian\"\n",
    "# )\n"
   ]
  },
  {
   "cell_type": "code",
   "execution_count": 3,
   "metadata": {},
   "outputs": [],
   "source": [
    "df =df.iloc[0:3000]"
   ]
  },
  {
   "cell_type": "code",
   "execution_count": 4,
   "metadata": {},
   "outputs": [],
   "source": [
    "# Define non-vegetarian ingredients\n",
    "non_veg_ingredients = set([\n",
    "    # Meat & Poultry\n",
    "    \"chicken\", \"beef\", \"pork\", \"mutton\", \"lamb\", \"turkey\", \"duck\", \"quail\", \"goat\", \"veal\",\n",
    "    \"rabbit\", \"boar\", \"venison\", \"bison\", \"kangaroo\", \"goose\", \"pheasant\", \"pigeon\", \"elk\",\n",
    "    \n",
    "    # Processed Meat Products\n",
    "    \"bacon\", \"ham\", \"sausage\", \"pepperoni\", \"salami\", \"chorizo\", \"pastrami\", \"prosciutto\",\n",
    "    \"mortadella\", \"hot dog\", \"jerky\", \"liverwurst\", \"blood sausage\", \"scrapple\",\n",
    "    \n",
    "    # Seafood\n",
    "    \"fish\", \"tuna\", \"salmon\", \"trout\", \"cod\", \"haddock\", \"mackerel\", \"sardine\", \"anchovy\",\n",
    "    \"herring\", \"catfish\", \"bass\", \"snapper\", \"grouper\", \"halibut\", \"swordfish\", \"mahi mahi\",\n",
    "    \"flounder\", \"eel\", \"shark\", \"sturgeon\", \"tilapia\", \"tuna steaks\", \"swordfish steaks\",\n",
    "    \n",
    "    # Shellfish\n",
    "    \"shrimp\", \"prawns\", \"crab\", \"lobster\", \"crawfish\", \"squid\", \"octopus\", \"scallops\",\n",
    "    \"mussels\", \"clams\", \"oysters\", \"abalone\", \"conch\",\n",
    "    \n",
    "    # Animal-Based Ingredients\n",
    "    \"eggs\", \"gelatin\", \"lard\", \"suet\", \"tallow\", \"bone broth\", \"fish sauce\", \"oyster sauce\",\n",
    "    \"shrimp paste\", \"anchovy paste\", \"worcestershire sauce\", \"caviar\", \"roe\", \"squid ink\",\n",
    "    \n",
    "    # Organ Meats (Offal)\n",
    "    \"liver\", \"kidney\", \"heart\", \"brain\", \"tripe\", \"sweetbreads\", \"tongue\", \"gizzards\"\n",
    "])\n",
    "\n",
    "# Function to classify recipes correctly\n",
    "def classify_recipe(ingredients):\n",
    "    # Step 1: Clean string formatting issues\n",
    "    ingredients = str(ingredients).lower().replace('\"', '').replace(\"c(\", \"\").replace(\")\", \"\")\n",
    "\n",
    "    # Step 2: Convert to a list of ingredients\n",
    "    ingredient_list = [ing.strip() for ing in ingredients.split(\",\")]\n",
    "\n",
    "    # Step 3: Check for partial matches\n",
    "    if any(any(non_veg in ingredient for non_veg in non_veg_ingredients) for ingredient in ingredient_list):\n",
    "        return \"Non-Vegetarian\"\n",
    "    return \"Vegetarian\"\n",
    "\n",
    "\n",
    "# Apply classification\n",
    "df[\"DietaryCategory\"] = df[\"RecipeIngredientParts\"].apply(classify_recipe)"
   ]
  },
  {
   "cell_type": "code",
   "execution_count": 5,
   "metadata": {},
   "outputs": [
    {
     "data": {
      "text/plain": [
       "array(['Vegetarian', 'Non-Vegetarian'], dtype=object)"
      ]
     },
     "execution_count": 5,
     "metadata": {},
     "output_type": "execute_result"
    }
   ],
   "source": [
    "df['DietaryCategory'].unique()"
   ]
  },
  {
   "cell_type": "code",
   "execution_count": 6,
   "metadata": {},
   "outputs": [],
   "source": [
    "pd.set_option('display.max_columns', None)\n",
    "pd.set_option('display.max_row', None)\n",
    "pd.set_option('display.max_colwidth', None)"
   ]
  },
  {
   "cell_type": "code",
   "execution_count": 7,
   "metadata": {},
   "outputs": [],
   "source": [
    "# df[[\"RecipeIngredientParts\", \"DietaryCategory\"]]"
   ]
  },
  {
   "cell_type": "code",
   "execution_count": 8,
   "metadata": {},
   "outputs": [],
   "source": [
    "# Initialize Sentence Transformer Model\n",
    "\n",
    "model = SentenceTransformer(\"all-MiniLM-L6-v2\")"
   ]
  },
  {
   "cell_type": "code",
   "execution_count": 9,
   "metadata": {},
   "outputs": [],
   "source": [
    "# Step 3: Compute embeddings for ingredients\n",
    "df[\"IngredientEmbedding\"] = df[\"RecipeIngredientParts\"].apply(lambda x: model.encode(str(x), convert_to_tensor=True).tolist())"
   ]
  },
  {
   "cell_type": "code",
   "execution_count": 10,
   "metadata": {},
   "outputs": [],
   "source": [
    "\n",
    "# Step 4: Save embeddings to a new file\n",
    "df.to_csv(\"/home/minhas/cgn-dp-24-1/culinary_compass/data/recipes_with_embeddings.csv\", index=False)"
   ]
  },
  {
   "cell_type": "code",
   "execution_count": 11,
   "metadata": {},
   "outputs": [],
   "source": [
    "# Step 5: Load dataset with precomputed embeddings\n",
    "df = pd.read_csv(\"/home/minhas/cgn-dp-24-1/culinary_compass/data/recipes_with_embeddings.csv\")"
   ]
  },
  {
   "cell_type": "code",
   "execution_count": 12,
   "metadata": {},
   "outputs": [],
   "source": [
    "df[\"IngredientEmbedding\"] = df[\"IngredientEmbedding\"].apply(lambda x: torch.tensor(eval(x)))"
   ]
  },
  {
   "cell_type": "code",
   "execution_count": 13,
   "metadata": {},
   "outputs": [],
   "source": [
    "def recommend_recipes(nutrients, ingredients, diet_preference):\n",
    "    \"\"\"Recommend recipes based on user nutrients, ingredients, and dietary preference.\"\"\"\n",
    "\n",
    "    # Filter dataset based on dietary preference\n",
    "    if diet_preference != \"Any\":\n",
    "        filtered_df = df[df[\"DietaryCategory\"] == diet_preference].copy()\n",
    "    else:\n",
    "        filtered_df = df.copy()\n",
    "\n",
    "    # Encode input ingredients\n",
    "    input_ingredient_embedding = model.encode(\" \".join(ingredients), convert_to_tensor=True)\n",
    "\n",
    "    # Compute cosine similarity\n",
    "    ingredient_similarities = util.pytorch_cos_sim(\n",
    "        torch.stack(filtered_df[\"IngredientEmbedding\"].tolist()), input_ingredient_embedding\n",
    "    ).squeeze().numpy()\n",
    "\n",
    "    # Normalize nutrient similarity\n",
    "    nutrient_columns = [\"Calories\", \"FatContent\", \"SaturatedFatContent\", \"CholesterolContent\", \n",
    "                        \"SodiumContent\", \"CarbohydrateContent\", \"FiberContent\", \"SugarContent\", \"ProteinContent\"]\n",
    "    \n",
    "    df_nutrients = filtered_df[nutrient_columns].fillna(0)\n",
    "    nutrient_array = df_nutrients.to_numpy()\n",
    "\n",
    "    # Compute Euclidean distance\n",
    "    input_nutrient_array = np.array([nutrients[col] for col in nutrient_columns]).reshape(1, -1)\n",
    "    nutrient_distances = np.linalg.norm(nutrient_array - input_nutrient_array, axis=1)\n",
    "    nutrient_similarities = 1 / (1 + nutrient_distances)\n",
    "\n",
    "    # Compute final scores\n",
    "    final_scores = (0.3 * nutrient_similarities) + (0.7 * ingredient_similarities)\n",
    "\n",
    "    # Rank recipes and return top results\n",
    "    filtered_df[\"SimilarityScore\"] = final_scores\n",
    "    top_recipes = filtered_df.sort_values(by=\"SimilarityScore\", ascending=False).head(5)\n",
    "\n",
    "    return top_recipes[[\"Name\", \"Images\", \"RecipeInstructions\"]].to_dict(orient=\"records\")\n"
   ]
  },
  {
   "cell_type": "code",
   "execution_count": 14,
   "metadata": {},
   "outputs": [
    {
     "name": "stdout",
     "output_type": "stream",
     "text": [
      "Name: Shrimp and Gruyere Cheesecake\n",
      "Image: character(0)\n",
      "Instructions: c(\"cheese (about 5 oz.)\", \"1 Tsp.\", \"pepper   --GARNISHES IF DESIRED:--   Red pepper strips   Whole cooked shrimp   Basil leaves   --TOMATO SAUCE:--   1/4 cup chopped onion   1 Clove crushed garlic   1 Tbsp.\", \"olive oil   2 (14 Oz.) cans whole tomatoes  1 1/2 Tsp.\", \"dried Italian seasoning   1 bay leaf  Serve with tomato sauce, recipe to follow.\", \"Combine cracker crumbs and 1/4 cup  melted butter.\", \"Press into bottom of 9 inch springform pan.\", \"Chop cooked and  cleaned shrimp.\", \"Saute peppers, onion and garlic in 3 tablespoons melted butter  for 4-5 minutes until tender, add chopped shrimp and saute another minute.  Drain well and set aside. Beat cream cheese and mayonnaise at high speed until  light and fluffy, add eggs, one at a time, beating well after each addition.\", \n",
      "\"Gradually add milk beating on low speed just until blended.\", \"Stir in shrimp  mixture, shredded Gruyere or Swiss and 1 teaspoon pepper.\", \"Pour mixture into  pan.\", \"Bake at 300 degrees for 1 hour and 20 minutes or until set. Turn oven off  and open oven door partially leaving cheesecake in oven for 1 more hour.\", \"Cool  on rack.\", \"Cover and chill or serve at room temperature with hot tomato sauce.  Sauce: Saute onion and garlic in hot oil until tender.\", \"Add t  omatoes (break up  with hands or spoon) and rest of ingredients, simmer about 20 minutes, uncovered  until of desired consistency.\", \n",
      "\"Remove bay leaf.\", \"Serve hot over slices of  chilled or room temperature cheesecake. P.S.\", \"I have used both shrimp already  cooked and shrimp I have had to cook depending on the price at the time.\")\n",
      "--------------------------------------------------\n",
      "Name: Chicken Lasagna\n",
      "Image: character(0)\n",
      "Instructions: c(\"Mix filling ingredients in large bowl.\", \"Spread 1 cup filling on bottom of each of 2 8x8 pans.\", \"Cook noodles for 3 min (or not at all). Break noodles to fit pans and layer over filling.\", \"Repeat. Evenly divide remaining filling for the final layer.\", \"Sprinkle with paprika.\", \"Freeze. To serve, sprinkle cheddar cheese on top and bake from frozen to done for 1-2 hours at 400 deg.\")\n",
      "--------------------------------------------------\n",
      "Name: Seafood Lasagna With Brandied-Basil Cream Sauce\n",
      "Image: character(0)\n",
      "Instructions: c(\"Preheat oven to 350 degrees.\", \"This recipe should make 3 layers.\", \"In a  bowl, mix together ricotta, Parmesan, shredded provolone, eggs, basil  and black pepper.\", \"Add a layer of noodles.\", \"Spread a thin layer of cheese mixture  to cover noodle layer and top with a layer of shrimp, crabmeat and  scallops.\", \"Repeat steps again, ending with a layer of noodles until  you have completed the process 3 times.\", \"Arrange provolone cheese  slices on top of lasagna.\", \"Bake for approximately 1 hour or until  golden brown and bubbly.\", \n",
      "\"To serve, cut into portions and place lasagna on a plate. Generously  spoon Brandied-Basil Cream Sauce over the top and garnish with fresh  basil.\", \"Brandied-Basil Cream Sauce:  Bring heavy cream, cognac, basil leaves and stock to a boil.\", \"Reduce mixture to preferred consistency.\", \"Add Parmesan cheese, stirring to melt, and remove from the heat.\", \"Use shrimp base to make the shrimp stock or make your own shrimp stock by boiling together and reducing by 2/3  the following ingredients:  shells from 5 pounds of shrimp, 1 peeled Bermuda onion studded with 8 whole cloves, 3 bay leaves, 2 tablespoons whole black peppercorns, and 5 quarts of water.\"\n",
      ")\n",
      "--------------------------------------------------\n",
      "Name: Crabmeat Puffs\n",
      "Image: character(0)\n",
      "Instructions: c(\"Drain crabmeat thoroughly; remove cartilage. Remove excess water by squeezing  crabmeat;chop.\", \"Mix crabmeat,cream cheese,salt and garlic powder.\", \"Brush wonton  skin with egg.Place heaping teaspoonful of crabmeat mixture in center of wonton  skin.\", \"(Cover remaining skins with plastic wrap to keep them pliable.) Top with  another wonton skin; press edges to seal.\", \"Brush egg on center of each side of  puff.Make a pleat on each of 4 sides,pressing to seal.\", \"Repeat with remaining  wonton skins.\", \n",
      "\"(Cover puffs with plastic wrap to keep them from drying out.) When puffs are room temperature, heat vegetable oil (1 1/2 inches) in wok to 350  degrees ( I use a deep fryer). Fry 4 or 5 puffs at a time, 2 minutes or until  golden brown, turning 2 or 3 times; drain on paper towels.\", \"Serve with a sweet  and sour sauce if desired.\")\n",
      "--------------------------------------------------\n",
      "Name: Saucy Seafood Newburg\n",
      "Image: \"https://img.sndimg.com/food/image/upload/w_555,h_416,c_fit,fl_progressive,q_95/v1/img/recipes/28/57/pic3h8roF.jpg\"\n",
      "Instructions: c(\"Poach the seafood in water and white wine being careful not to overcook. Remove from pan and drain. Reserve a little for garnish\", \"Make sauce: Saute onions in butter making sure not to brown them-gradually add flour stirring well after each addition.\", \"Add the cream and soup. Cook until thick and creamy stirring continuously.\", \"Add Worcestershire sauce, sherry, lemon juice, salt, white pepper, nutmeg and paprika.\", \"Keep stirring.\", \"Add all seafood except the crab meat and carefully blend into the sauce- gently stir in the crab.Serve over rice, noodles or puff pastry shells.\", \n",
      "\"Garnish with some cooked shrimp or lobster pieces.\", \"Sprinkle a little fresh chopped parsley over.\", \"This serves about 12 for appetizers or 6 for entree..\")\n",
      "--------------------------------------------------\n"
     ]
    }
   ],
   "source": [
    "# Step 7: User input for testing\n",
    "user_nutrients = {\n",
    "    \"Calories\": 500, \"FatContent\": 20, \"SaturatedFatContent\": 5,\n",
    "    \"CholesterolContent\": 10, \"SodiumContent\": 500, \"CarbohydrateContent\": 50,\n",
    "    \"FiberContent\": 10, \"SugarContent\": 10, \"ProteinContent\": 30\n",
    "}\n",
    "\n",
    "user_ingredients = [ \"Egg, whole, raw, frozen, salted, pasteurized\", \"Cheese, American, restaurant\",\n",
    "                    \"Cheese, cotija, solid\", \"Crustaceans, crab, alaska king, raw\",\n",
    "                      \"Mollusks, clam, mixed species, raw\",  \"Seaweed, wakame, raw\",\n",
    "                    \"Cream cheese, full fat, block\"]\n",
    "# Define the diet preference\n",
    "diet_preference = \"Any\"# You can set this to \"Vegetarian\", \"Non-Vegetarian\", or \"Any\" based on user input\n",
    "\n",
    "# Step 8: Get recommendations\n",
    "recommendations = recommend_recipes(user_nutrients, user_ingredients, diet_preference)\n",
    "\n",
    "# Step 9: Display results\n",
    "for recipe in recommendations:\n",
    "    print(f\"Name: {recipe['Name']}\\nImage: {recipe['Images']}\\nInstructions: {recipe['RecipeInstructions']}\\n{'-'*50}\")"
   ]
  },
  {
   "cell_type": "markdown",
   "metadata": {},
   "source": [
    "# End"
   ]
  },
  {
   "cell_type": "code",
   "execution_count": null,
   "metadata": {},
   "outputs": [],
   "source": []
  },
  {
   "cell_type": "code",
   "execution_count": null,
   "metadata": {},
   "outputs": [],
   "source": [
    "diet_preference = st.sidebar.selectbox(\"Dietary Preference:\", [\"Any\", \"Vegetarian\", \"Non-Vegetarian\"])\n",
    "\n",
    "\n",
    "\n",
    "non_veg_ingredients = [\"chicken\", \"beef\", \"pork\", \"fish\", \"shrimp\", \"lamb\", \"eggs\", \"egg\"]\n",
    "\n",
    "df[\"DietaryCategory\"] = df[\"RecipeIngredientParts\"].apply(\n",
    "    lambda ingredients: \"Non-Vegetarian\" if any(re.search(rf\"\\b{item}\\b\", str(ingredients).lower()) for item in non_veg_ingredients) else \"Vegetarian\"\n",
    ")\n",
    "\n",
    "# Display the updated DataFrame\n",
    "print(df)\n",
    "\n",
    "\n",
    "def recommend_recipes(nutrients, ingredients, diet_preference):\n",
    "    \"\"\"Recommend recipes based on user nutrients, ingredients, and dietary preference.\"\"\"\n",
    "\n",
    "    # Filter dataset based on dietary preference\n",
    "    if diet_preference != \"Any\":\n",
    "        filtered_df = df[df[\"DietaryCategory\"] == diet_preference].copy()\n",
    "    else:\n",
    "        filtered_df = df.copy()\n",
    "\n",
    "    # Encode input ingredients\n",
    "    input_ingredient_embedding = model.encode(\" \".join(ingredients), convert_to_tensor=True)\n",
    "\n",
    "    # Compute cosine similarity\n",
    "    ingredient_similarities = util.pytorch_cos_sim(\n",
    "        torch.stack(filtered_df[\"IngredientEmbedding\"].tolist()), input_ingredient_embedding\n",
    "    ).squeeze().numpy()\n",
    "\n",
    "    # Normalize nutrient similarity\n",
    "    nutrient_columns = [\"Calories\", \"FatContent\", \"SaturatedFatContent\", \"CholesterolContent\", \n",
    "                        \"SodiumContent\", \"CarbohydrateContent\", \"FiberContent\", \"SugarContent\", \"ProteinContent\"]\n",
    "    \n",
    "    df_nutrients = filtered_df[nutrient_columns].fillna(0)\n",
    "    nutrient_array = df_nutrients.to_numpy()\n",
    "\n",
    "    # Compute Euclidean distance\n",
    "    input_nutrient_array = np.array([nutrients[col] for col in nutrient_columns]).reshape(1, -1)\n",
    "    nutrient_distances = np.linalg.norm(nutrient_array - input_nutrient_array, axis=1)\n",
    "    nutrient_similarities = 1 / (1 + nutrient_distances)\n",
    "\n",
    "    # Compute final scores\n",
    "    final_scores = (0.6 * nutrient_similarities) + (0.4 * ingredient_similarities)\n",
    "\n",
    "    # Rank recipes and return top results\n",
    "    filtered_df[\"SimilarityScore\"] = final_scores\n",
    "    top_recipes = filtered_df.sort_values(by=\"SimilarityScore\", ascending=False).head(5)\n",
    "\n",
    "    return top_recipes[[\"Name\", \"Images\", \"RecipeInstructions\"]].to_dict(orient=\"records\")\n",
    "\n",
    "\n",
    "recommendations = recommend_recipes(user_nutrients, user_ingredients, diet_preference)\n",
    "\n"
   ]
  },
  {
   "cell_type": "code",
   "execution_count": null,
   "metadata": {},
   "outputs": [],
   "source": []
  },
  {
   "cell_type": "code",
   "execution_count": null,
   "metadata": {},
   "outputs": [],
   "source": []
  }
 ],
 "metadata": {
  "kernelspec": {
   "display_name": ".venv",
   "language": "python",
   "name": "python3"
  },
  "language_info": {
   "codemirror_mode": {
    "name": "ipython",
    "version": 3
   },
   "file_extension": ".py",
   "mimetype": "text/x-python",
   "name": "python",
   "nbconvert_exporter": "python",
   "pygments_lexer": "ipython3",
   "version": "3.11.3"
  }
 },
 "nbformat": 4,
 "nbformat_minor": 2
}
